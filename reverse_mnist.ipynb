{
 "cells": [
  {
   "cell_type": "markdown",
   "metadata": {},
   "source": [
    "# I have reversed a standard CNN to make it work like a GAN.\n",
    "Here I have used a slightly different approach than GANs. GANs generally use a Generator to generate the image and a discriminator image to compare it with the generator and the problem acts like a binary classification where the ans is either YES or NO. I have used MSE/MAE loss to generate images similar to that in the training data as in Mnist we have only 10 labels and so different image outputs for a same label are not required.   "
   ]
  },
  {
   "cell_type": "code",
   "execution_count": 192,
   "metadata": {},
   "outputs": [],
   "source": [
    "import numpy as np\n",
    "import tensorflow as tf\n",
    "import matplotlib.pyplot as plt"
   ]
  },
  {
   "cell_type": "markdown",
   "metadata": {},
   "source": [
    "## Regarding fetching the data\n",
    "Here I am taking the images in y_train and y_test and the corresponding labels in x_train and x_test."
   ]
  },
  {
   "cell_type": "code",
   "execution_count": 187,
   "metadata": {},
   "outputs": [],
   "source": [
    "(y_train, x_train), (y_test, x_test) =  tf.keras.datasets.mnist.load_data()"
   ]
  },
  {
   "cell_type": "code",
   "execution_count": 188,
   "metadata": {},
   "outputs": [
    {
     "data": {
      "text/plain": [
       "(60000, 28, 28)"
      ]
     },
     "execution_count": 188,
     "metadata": {},
     "output_type": "execute_result"
    }
   ],
   "source": [
    "y_train.shape"
   ]
  },
  {
   "cell_type": "code",
   "execution_count": 189,
   "metadata": {},
   "outputs": [
    {
     "data": {
      "text/plain": [
       "(60000,)"
      ]
     },
     "execution_count": 189,
     "metadata": {},
     "output_type": "execute_result"
    }
   ],
   "source": [
    "x_train.shape"
   ]
  },
  {
   "cell_type": "code",
   "execution_count": 195,
   "metadata": {},
   "outputs": [],
   "source": [
    "x_train = tf.one_hot(x_train, 10)"
   ]
  },
  {
   "cell_type": "code",
   "execution_count": 196,
   "metadata": {},
   "outputs": [],
   "source": [
    "x_test = tf.one_hot(x_test, 10)"
   ]
  },
  {
   "cell_type": "code",
   "execution_count": 197,
   "metadata": {},
   "outputs": [],
   "source": [
    "x_train = np.array(x_train)\n",
    "x_test = np.array(x_test)"
   ]
  },
  {
   "cell_type": "markdown",
   "metadata": {},
   "source": [
    "## Now we will make a method to create our image generator network"
   ]
  },
  {
   "cell_type": "code",
   "execution_count": 198,
   "metadata": {},
   "outputs": [],
   "source": [
    "def create_model():\n",
    "    model = tf.keras.models.Sequential()\n",
    "    \n",
    "    model.add(tf.keras.layers.Dense(7*7*512, activation=\"relu\", input_shape=(10,)))\n",
    "    model.add(tf.keras.layers.BatchNormalization())\n",
    "    model.add(tf.keras.layers.Reshape((7,7,512)))\n",
    "\n",
    "\n",
    "    model.add(tf.keras.layers.Conv2DTranspose(128, (4,4), activation=\"relu\"))\n",
    "    model.add(tf.keras.layers.BatchNormalization())\n",
    "\n",
    "    model.add(tf.keras.layers.Conv2DTranspose(64, (6,6), strides=(2,2), activation='relu'))\n",
    "    model.add(tf.keras.layers.BatchNormalization())\n",
    "\n",
    "    model.add(tf.keras.layers.Conv2DTranspose(32, (5,5), strides=(1,1), activation='relu'))\n",
    "    model.add(tf.keras.layers.BatchNormalization())\n",
    "\n",
    "    model.add(tf.keras.layers.Conv2DTranspose(1, (1,1), strides=(1,1), activation=\"relu\"))\n",
    "    #assert model.output_shape == (None, 28, 28)\n",
    "    return model"
   ]
  },
  {
   "cell_type": "code",
   "execution_count": 199,
   "metadata": {},
   "outputs": [
    {
     "name": "stdout",
     "output_type": "stream",
     "text": [
      "Model: \"sequential_33\"\n",
      "_________________________________________________________________\n",
      "Layer (type)                 Output Shape              Param #   \n",
      "=================================================================\n",
      "dense_33 (Dense)             (None, 25088)             275968    \n",
      "_________________________________________________________________\n",
      "batch_normalization_118 (Bat (None, 25088)             100352    \n",
      "_________________________________________________________________\n",
      "reshape_32 (Reshape)         (None, 7, 7, 512)         0         \n",
      "_________________________________________________________________\n",
      "conv2d_transpose_117 (Conv2D (None, 10, 10, 128)       1048704   \n",
      "_________________________________________________________________\n",
      "batch_normalization_119 (Bat (None, 10, 10, 128)       512       \n",
      "_________________________________________________________________\n",
      "conv2d_transpose_118 (Conv2D (None, 24, 24, 64)        294976    \n",
      "_________________________________________________________________\n",
      "batch_normalization_120 (Bat (None, 24, 24, 64)        256       \n",
      "_________________________________________________________________\n",
      "conv2d_transpose_119 (Conv2D (None, 28, 28, 32)        51232     \n",
      "_________________________________________________________________\n",
      "batch_normalization_121 (Bat (None, 28, 28, 32)        128       \n",
      "_________________________________________________________________\n",
      "conv2d_transpose_120 (Conv2D (None, 28, 28, 1)         33        \n",
      "=================================================================\n",
      "Total params: 1,772,161\n",
      "Trainable params: 1,721,537\n",
      "Non-trainable params: 50,624\n",
      "_________________________________________________________________\n"
     ]
    }
   ],
   "source": [
    "my_model = create_model()\n",
    "my_model.summary()"
   ]
  },
  {
   "cell_type": "code",
   "execution_count": 203,
   "metadata": {},
   "outputs": [],
   "source": [
    "my_model.compile(optimizer=tf.keras.optimizers.Adam(lr=0.001), loss=\"MAE\", metrics=[\"accuracy\"])"
   ]
  },
  {
   "cell_type": "markdown",
   "metadata": {},
   "source": [
    "### This below code cell is trained with lr = 0.0001"
   ]
  },
  {
   "cell_type": "code",
   "execution_count": 201,
   "metadata": {},
   "outputs": [
    {
     "name": "stdout",
     "output_type": "stream",
     "text": [
      "Epoch 1/5\n",
      "844/844 [==============================] - 781s 925ms/step - loss: 31.9969 - accuracy: 0.7501 - val_loss: 31.3459 - val_accuracy: 0.7680\n",
      "Epoch 2/5\n",
      "844/844 [==============================] - 781s 925ms/step - loss: 31.1189 - accuracy: 0.7665 - val_loss: 30.3790 - val_accuracy: 0.7658\n",
      "Epoch 3/5\n",
      "844/844 [==============================] - 778s 921ms/step - loss: 30.3083 - accuracy: 0.7645 - val_loss: 29.4818 - val_accuracy: 0.7640\n",
      "Epoch 4/5\n",
      "844/844 [==============================] - 745s 883ms/step - loss: 29.4798 - accuracy: 0.7601 - val_loss: 28.6037 - val_accuracy: 0.7586\n",
      "Epoch 5/5\n",
      "844/844 [==============================] - 532s 631ms/step - loss: 28.6666 - accuracy: 0.7545 - val_loss: 27.7628 - val_accuracy: 0.7574\n"
     ]
    }
   ],
   "source": [
    "history = my_model.fit(x_train, y_train, epochs=5, validation_split=0.1, batch_size=64, verbose=1)"
   ]
  },
  {
   "cell_type": "markdown",
   "metadata": {},
   "source": [
    "### And then model was trained again with lr = 0.001"
   ]
  },
  {
   "cell_type": "code",
   "execution_count": 204,
   "metadata": {},
   "outputs": [
    {
     "name": "stdout",
     "output_type": "stream",
     "text": [
      "Epoch 1/3\n",
      "844/844 [==============================] - 549s 651ms/step - loss: 26.6979 - accuracy: 0.7477 - val_loss: 25.5242 - val_accuracy: 0.7525\n",
      "Epoch 2/3\n",
      "844/844 [==============================] - 529s 627ms/step - loss: 26.1396 - accuracy: 0.7596 - val_loss: 25.5026 - val_accuracy: 0.7621\n",
      "Epoch 3/3\n",
      "844/844 [==============================] - 532s 630ms/step - loss: 26.1190 - accuracy: 0.7603 - val_loss: 25.4343 - val_accuracy: 0.7606\n"
     ]
    }
   ],
   "source": [
    "history = my_model.fit(x_train, y_train, epochs=3, validation_split=0.1, batch_size=64, verbose=1)"
   ]
  },
  {
   "cell_type": "markdown",
   "metadata": {},
   "source": [
    "### The trained model weights were then stored so that they can be used or retrained again the next time without starting from scratch"
   ]
  },
  {
   "cell_type": "code",
   "execution_count": 205,
   "metadata": {},
   "outputs": [],
   "source": [
    "my_model.save(\"reverse_mnist.h5\")"
   ]
  },
  {
   "cell_type": "code",
   "execution_count": 206,
   "metadata": {},
   "outputs": [
    {
     "name": "stdout",
     "output_type": "stream",
     "text": [
      "313/313 [==============================] - 42s 133ms/step - loss: 25.9146 - accuracy: 0.7594\n"
     ]
    }
   ],
   "source": [
    "loss, acc = my_model.evaluate(x_test, y_test)"
   ]
  },
  {
   "cell_type": "code",
   "execution_count": 221,
   "metadata": {},
   "outputs": [],
   "source": [
    "acc = history.history[\"accuracy\"]\n",
    "loss = history.history[\"loss\"]\n",
    "val_acc = history.history[\"val_accuracy\"]\n",
    "val_loss = history.history[\"val_loss\"]\n",
    "epochs = range(len(acc))"
   ]
  },
  {
   "cell_type": "code",
   "execution_count": 225,
   "metadata": {},
   "outputs": [
    {
     "data": {
      "text/plain": [
       "<matplotlib.legend.Legend at 0x26814aebfc8>"
      ]
     },
     "execution_count": 225,
     "metadata": {},
     "output_type": "execute_result"
    },
    {
     "data": {
      "image/png": "[encoded data removed]",
      "text/plain": [
       "<Figure size 432x288 with 1 Axes>"
      ]
     },
     "metadata": {
      "needs_background": "light"
     },
     "output_type": "display_data"
    }
   ],
   "source": [
    "plt.plot(epochs, acc, label=\"Training accuracy\")\n",
    "plt.plot(epochs, val_acc, label=\"Validation accuracy\")\n",
    "plt.legend()"
   ]
  },
  {
   "cell_type": "code",
   "execution_count": 226,
   "metadata": {},
   "outputs": [
    {
     "data": {
      "text/plain": [
       "<matplotlib.legend.Legend at 0x26814b72c08>"
      ]
     },
     "execution_count": 226,
     "metadata": {},
     "output_type": "execute_result"
    },
    {
     "data": {
      "image/png": "[encoded data removed]",
      "text/plain": [
       "<Figure size 432x288 with 1 Axes>"
      ]
     },
     "metadata": {
      "needs_background": "light"
     },
     "output_type": "display_data"
    }
   ],
   "source": [
    "plt.plot(epochs, loss, label=\"Training loss\")\n",
    "plt.plot(epochs, val_loss, label=\"Validation loss\")\n",
    "plt.legend()"
   ]
  },
  {
   "cell_type": "code",
   "execution_count": 227,
   "metadata": {},
   "outputs": [],
   "source": [
    "pred = my_model.predict(x_test)"
   ]
  },
  {
   "cell_type": "code",
   "execution_count": 228,
   "metadata": {},
   "outputs": [
    {
     "data": {
      "text/plain": [
       "(10000, 28, 28, 1)"
      ]
     },
     "execution_count": 228,
     "metadata": {},
     "output_type": "execute_result"
    }
   ],
   "source": [
    "pred.shape"
   ]
  },
  {
   "cell_type": "code",
   "execution_count": 251,
   "metadata": {},
   "outputs": [
    {
     "data": {
      "text/plain": [
       "<matplotlib.image.AxesImage at 0x26808ddbec8>"
      ]
     },
     "execution_count": 251,
     "metadata": {},
     "output_type": "execute_result"
    },
    {
     "data": {
      "text/plain": [
       "<Figure size 1440x720 with 0 Axes>"
      ]
     },
     "metadata": {},
     "output_type": "display_data"
    },
    {
     "data": {
      "image/png": "[encoded data removed]",
      "text/plain": [
       "<Figure size 432x288 with 2 Axes>"
      ]
     },
     "metadata": {
      "needs_background": "light"
     },
     "output_type": "display_data"
    }
   ],
   "source": [
    "i = 3\n",
    "plt.figure(figsize=(20,10))\n",
    "fig, (ax1,ax2) = plt.subplots(1,2)\n",
    "img = pred[i].reshape((28,28))\n",
    "ax1.set_title(\"Generated image\")\n",
    "ax1.imshow(img)\n",
    "ax2.set_title(\"Original image\")\n",
    "ax2.imshow(y_test[i])"
   ]
  },
  {
   "cell_type": "code",
   "execution_count": 252,
   "metadata": {},
   "outputs": [
    {
     "data": {
      "text/plain": [
       "<matplotlib.image.AxesImage at 0x2686f8b28c8>"
      ]
     },
     "execution_count": 252,
     "metadata": {},
     "output_type": "execute_result"
    },
    {
     "data": {
      "text/plain": [
       "<Figure size 1440x720 with 0 Axes>"
      ]
     },
     "metadata": {},
     "output_type": "display_data"
    },
    {
     "data": {
      "image/png": "[encoded data removed]",
      "text/plain": [
       "<Figure size 432x288 with 2 Axes>"
      ]
     },
     "metadata": {
      "needs_background": "light"
     },
     "output_type": "display_data"
    }
   ],
   "source": [
    "i = 1\n",
    "plt.figure(figsize=(20,10))\n",
    "fig, (ax1,ax2) = plt.subplots(1,2)\n",
    "img = pred[i].reshape((28,28))\n",
    "ax1.set_title(\"Generated image\")\n",
    "ax1.imshow(img)\n",
    "ax2.set_title(\"Original image\")\n",
    "ax2.imshow(y_test[i])"
   ]
  },
  {
   "cell_type": "code",
   "execution_count": 253,
   "metadata": {},
   "outputs": [
    {
     "data": {
      "text/plain": [
       "<matplotlib.image.AxesImage at 0x26808f9a108>"
      ]
     },
     "execution_count": 253,
     "metadata": {},
     "output_type": "execute_result"
    },
    {
     "data": {
      "text/plain": [
       "<Figure size 1440x720 with 0 Axes>"
      ]
     },
     "metadata": {},
     "output_type": "display_data"
    },
    {
     "data": {
      "image/png": "[encoded data removed]",
      "text/plain": [
       "<Figure size 432x288 with 2 Axes>"
      ]
     },
     "metadata": {
      "needs_background": "light"
     },
     "output_type": "display_data"
    }
   ],
   "source": [
    "i = 18\n",
    "plt.figure(figsize=(20,10))\n",
    "fig, (ax1,ax2) = plt.subplots(1,2)\n",
    "img = pred[i].reshape((28,28))\n",
    "ax1.set_title(\"Generated image\")\n",
    "ax1.imshow(img)\n",
    "ax2.set_title(\"Original image\")\n",
    "ax2.imshow(y_test[i])"
   ]
  },
  {
   "cell_type": "code",
   "execution_count": 254,
   "metadata": {},
   "outputs": [
    {
     "data": {
      "text/plain": [
       "<matplotlib.image.AxesImage at 0x26803074908>"
      ]
     },
     "execution_count": 254,
     "metadata": {},
     "output_type": "execute_result"
    },
    {
     "data": {
      "text/plain": [
       "<Figure size 1440x720 with 0 Axes>"
      ]
     },
     "metadata": {},
     "output_type": "display_data"
    },
    {
     "data": {
      "image/png": "[encoded data removed]",
      "text/plain": [
       "<Figure size 432x288 with 2 Axes>"
      ]
     },
     "metadata": {
      "needs_background": "light"
     },
     "output_type": "display_data"
    }
   ],
   "source": [
    "i = 11\n",
    "plt.figure(figsize=(20,10))\n",
    "fig, (ax1,ax2) = plt.subplots(1,2)\n",
    "img = pred[i].reshape((28,28))\n",
    "ax1.set_title(\"Generated image\")\n",
    "ax1.imshow(img)\n",
    "ax2.set_title(\"Original image\")\n",
    "ax2.imshow(y_test[i])"
   ]
  },
  {
   "cell_type": "code",
   "execution_count": null,
   "metadata": {},
   "outputs": [],
   "source": []
  }
 ],
 "metadata": {
  "kernelspec": {
   "display_name": "Python 3",
   "language": "python",
   "name": "python3"
  },
  "language_info": {
   "codemirror_mode": {
    "name": "ipython",
    "version": 3
   },
   "file_extension": ".py",
   "mimetype": "text/x-python",
   "name": "python",
   "nbconvert_exporter": "python",
   "pygments_lexer": "ipython3",
   "version": "3.7.4"
  }
 },
 "nbformat": 4,
 "nbformat_minor": 2
}
